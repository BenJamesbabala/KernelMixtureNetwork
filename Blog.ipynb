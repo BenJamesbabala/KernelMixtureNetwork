{
 "cells": [
  {
   "cell_type": "code",
   "execution_count": 1,
   "metadata": {
    "collapsed": true
   },
   "outputs": [],
   "source": [
    "import tensorflow as tf\n",
    "import numpy as np\n",
    "from sklearn.cluster import KMeans, AgglomerativeClustering\n",
    "from sklearn.model_selection import train_test_split\n",
    "import matplotlib.pyplot as plt\n",
    "from matplotlib.animation import FuncAnimation\n",
    "import seaborn as sns\n",
    "import math\n",
    "from math import pi\n",
    "from scipy.stats import norm\n",
    "## %matplotlib inline"
   ]
  },
  {
   "cell_type": "code",
   "execution_count": 2,
   "metadata": {
    "collapsed": false
   },
   "outputs": [
    {
     "data": {
      "text/plain": [
       "3.8527314906547212"
      ]
     },
     "execution_count": 2,
     "metadata": {},
     "output_type": "execute_result"
    }
   ],
   "source": [
    "np.random.seed(42)\n",
    "x = np.random.normal(size=1000)\n",
    "np.max(x)"
   ]
  },
  {
   "cell_type": "code",
   "execution_count": 5,
   "metadata": {
    "collapsed": false
   },
   "outputs": [],
   "source": [
    "## Script adjusted from https://stackoverflow.com/questions/18320240/animate-a-histogram-in-python\n",
    "\n",
    "def animate_hist(x, n_bins, number_steps=10, update_frequency=200):\n",
    "    \n",
    "    def step():\n",
    "        for step in range(number_steps + 1):\n",
    "            x_size = round(len(x) / (number_steps) * (step + 1))\n",
    "            density, edges = np.histogram(x[:x_size], bins=bins, density=True)\n",
    "            #print(density)\n",
    "            yield x_size, density\n",
    "            \n",
    "    def animate(arg, ax, rects):\n",
    "        x_size, frequences = arg\n",
    "        for rect, f in zip(rects, frequences):\n",
    "            rect.set_height(f)\n",
    "        ax.set_title('Sample size ' + str(x_size))\n",
    "            \n",
    "    def plot_normal(ax, mean, sigma, from_x, to_x, resolution=100):\n",
    "        relevant_x = np.linspace(from_x, to_x, resolution)\n",
    "        x_pdf = norm.pdf(relevant_x, loc=mean, scale=sigma)\n",
    "        ax.plot(relevant_x * n_bins / to_x / 2 + n_bins / 2 - 0.5 , x_pdf)\n",
    "    \n",
    "    fig, ax = plt.subplots()\n",
    "    fig.set_tight_layout(True)\n",
    "    pos = np.arange(n_bins + 1)\n",
    "    width = 1.0\n",
    "    \n",
    "    frequencies = [0. for _ in range(n_bins + 1)]\n",
    "    border = round(max(abs(min(x)), max(x)))\n",
    "    bins = np.linspace(-border, border, n_bins + 1)\n",
    "\n",
    "    ax.set_xticks(pos - (width / 2))\n",
    "    ax.set_xticklabels(bins)\n",
    "    \n",
    "    ax.set_ylim([0., 0.6])\n",
    "    \n",
    "    rects = plt.bar(pos, frequencies, width, color='r')\n",
    "    \n",
    "    plot_normal(ax, 0, 1, -4, 4)\n",
    "    \n",
    "    return FuncAnimation(fig, animate, step, interval=update_frequency, repeat=False, blit=False, fargs=(ax, rects,))\n",
    "\n",
    "ani = animate_hist(x, 16, 75, update_frequency=100)\n",
    "ani.save('increasing_sample_histogram.mp4')"
   ]
  },
  {
   "cell_type": "code",
   "execution_count": 7,
   "metadata": {
    "collapsed": false
   },
   "outputs": [],
   "source": [
    "def animate_normal_approximation(x, number_steps=10, update_frequency=200):\n",
    "    \n",
    "    def step():\n",
    "        for step in range(number_steps + 1):\n",
    "            x_size = round(len(x) / (number_steps) * (step + 1))\n",
    "            mu, sigma = find_mu_sigma(x[:x_size])\n",
    "            yield x_size, mu, sigma\n",
    "            \n",
    "    def animate(arg, ax, approx_normal):\n",
    "        x_size, mu, sigma = arg\n",
    "        ax.set_title('Sample size ' + str(x_size))\n",
    "        approx_normal.set_ydata(plot_normal(mu, sigma, -4, 4)[1])\n",
    "    \n",
    "    def plot_normal(mean, sigma, from_x, to_x, resolution=100):\n",
    "        relevant_x = np.linspace(from_x, to_x, resolution)\n",
    "        x_pdf = norm.pdf(relevant_x, loc=mean, scale=sigma)\n",
    "        return relevant_x, x_pdf\n",
    "        #ax.plot(relevant_x, x_pdf)\n",
    "        \n",
    "    def find_mu_sigma(x):\n",
    "        mu = np.mean(x)\n",
    "        sigma = np.sqrt(sum(np.square(x - mu)) / (x.shape[0] - 1))\n",
    "        return mu, sigma\n",
    "\n",
    "    fig, ax = plt.subplots()\n",
    "    fig.set_tight_layout(True)\n",
    "    \n",
    "    #border = round(max(abs(min(x)), max(x)))\n",
    "    ax.set_xlim([-4, 4])\n",
    "    ax.set_ylim([0., 0.5])\n",
    "\n",
    "    rel_x, rel_y = plot_normal(0, 1, -4, 4)\n",
    "    real_normal = ax.plot(rel_x, rel_y)    \n",
    "    approx_normal = ax.plot(rel_x, rel_y, 'r')\n",
    "    \n",
    "    return FuncAnimation(fig, animate, step, interval=update_frequency, repeat=False, blit=False, fargs=(ax, approx_normal[0],))\n",
    "    \n",
    "ani = animate_normal_approximation(x[:300], number_steps=75, update_frequency=100)\n",
    "ani.save('approxim_normal.mp4')"
   ]
  },
  {
   "cell_type": "code",
   "execution_count": 23,
   "metadata": {
    "collapsed": false
   },
   "outputs": [],
   "source": [
    "import math\n",
    "\n",
    "def animate_normal_fitting(x, start_mu, start_sigma, number_steps=10, update_frequency=200):\n",
    "    \n",
    "    def step():\n",
    "        for step in range(number_steps + 1):\n",
    "            mu = 0.95 ** step * 2 - 2 \n",
    "            sigma = start_sigma * 0.978 ** step \n",
    "            yield mu, sigma\n",
    "            \n",
    "    def animate(arg, ax, approx_normal):\n",
    "        mu, sigma = arg\n",
    "        likelihood = norm.pdf(x, loc=mu, scale=sigma)\n",
    "        ax.set_title('Likelihood: ' + str(likelihood))\n",
    "        approx_normal.set_ydata(plot_normal(mu, sigma, -4, 4)[1])\n",
    "    \n",
    "    def plot_normal(mean, sigma, from_x, to_x, resolution=100):\n",
    "        relevant_x = np.linspace(from_x, to_x, resolution)\n",
    "        x_pdf = norm.pdf(relevant_x, loc=mean, scale=sigma)\n",
    "        return relevant_x, x_pdf\n",
    "        #ax.plot(relevant_x, x_pdf)\n",
    "\n",
    "    fig, ax = plt.subplots()\n",
    "    fig.set_tight_layout(True)\n",
    "    \n",
    "    #border = round(max(abs(min(x)), max(x)))\n",
    "    ax.set_xlim([-4, 4])\n",
    "    ax.set_ylim([0., 1.])\n",
    "\n",
    "    rel_x, rel_y = plot_normal(0, 1, -4, 4)\n",
    "    target_line = ax.plot([x, x], [0, 1.], 'b')    \n",
    "    approx_normal = ax.plot(rel_x, rel_y, 'r')\n",
    "    \n",
    "    return FuncAnimation(fig, animate, step, interval=update_frequency, repeat=False, blit=False, fargs=(ax, approx_normal[0],))\n",
    "    \n",
    "ani = animate_normal_fitting(-2, 0, 2, number_steps=75, update_frequency=50)\n",
    "ani.save('normal_fitting.mp4')"
   ]
  },
  {
   "cell_type": "code",
   "execution_count": 12,
   "metadata": {
    "collapsed": false
   },
   "outputs": [
    {
     "data": {
      "text/plain": [
       "-1.9656043802955843"
      ]
     },
     "execution_count": 12,
     "metadata": {},
     "output_type": "execute_result"
    }
   ],
   "source": [
    "step = 25\n",
    "0.85 ** step * 2 - 2"
   ]
  },
  {
   "cell_type": "code",
   "execution_count": 57,
   "metadata": {
    "collapsed": false
   },
   "outputs": [],
   "source": [
    "def animate_kernel_sigma(x, from_sigma, to_sigma, number_steps=10, update_frequency=200, resolution=1000):\n",
    "    \n",
    "    def plot_normal(mean, sigma, relevant_x):\n",
    "        return norm.pdf(relevant_x, loc=mean, scale=sigma)\n",
    "        #return x_pdf\n",
    "    \n",
    "    def step():\n",
    "        for step in range(number_steps + 1):\n",
    "            sigma = sigmas[step]\n",
    "            kernels = [plot_normal(x_i, sigma, relevant_x) / len(x) for x_i in x]\n",
    "            total_density = np.sum(np.array(kernels), axis=0)\n",
    "            yield step, sigma, kernels, total_density\n",
    "            \n",
    "    def animate(arg, ax, kernel_plots, total_density_plot):\n",
    "        step, sigma, kernels, total_density = arg\n",
    "        ax.set_title('Sigma ' + str(sigma))\n",
    "        for kernel_plot, kernel in zip(kernel_plots, kernels):\n",
    "            kernel_plot[0].set_ydata(kernel)\n",
    "        total_density_plot[0].set_ydata(total_density)\n",
    "\n",
    "    fig, ax = plt.subplots()\n",
    "    fig.set_tight_layout(True)\n",
    "\n",
    "    sigmas = np.linspace(from_sigma, to_sigma, number_steps + 1)\n",
    "    relevant_x = np.linspace(-4, 4, resolution)\n",
    "    kernels = [plot_normal(x_i, from_sigma, relevant_x) / len(x) for x_i in x]\n",
    "    kernel_plots = []\n",
    "    for kernel in kernels:\n",
    "        kernel_plots.append(ax.plot(relevant_x, kernel, 'b'))\n",
    "    #print(kernel_plots)\n",
    "    total_density = np.sum(np.array(kernels), axis=0)\n",
    "    total_density_plot = ax.plot(relevant_x, total_density, 'r')\n",
    "    \n",
    "    return FuncAnimation(fig, animate, step, interval=update_frequency, repeat=False, blit=False, fargs=(ax, kernel_plots, total_density_plot))\n",
    "    \n",
    "    #print(total_density.shape)\n",
    "    \n",
    "    #plt.show()\n",
    "    \n",
    "ani = animate_kernel_sigma(x[:25], 0.06, 0.75, number_steps=140, update_frequency=100)"
   ]
  },
  {
   "cell_type": "code",
   "execution_count": 38,
   "metadata": {
    "collapsed": false
   },
   "outputs": [],
   "source": [
    "def shift_weight_kernel(x, focus_index, sigma, number_steps=10, update_frequency=200, resolution=1000):\n",
    "    \n",
    "    def plot_normal(mean, sigma, relevant_x):\n",
    "        return norm.pdf(relevant_x, loc=mean, scale=sigma)\n",
    "        #return x_pdf\n",
    "    \n",
    "    def step():\n",
    "        for step in range(1, number_steps + 1):\n",
    "            focus_weight = 1/len(x) + (len(x) - 1) / (len(x)) * (step / (number_steps + 1))\n",
    "            print(focus_weight)\n",
    "            non_focus_weight = (1 - focus_weight) / (len(x) - 1)\n",
    "            kernels = [plot_normal(x_i, sigma, relevant_x) * non_focus_weight for x_i in x]\n",
    "            kernels[focus_index] = kernels[focus_index] / non_focus_weight * focus_weight\n",
    "            total_density = np.sum(np.array(kernels), axis=0)\n",
    "            yield step, focus_weight, kernels, total_density\n",
    "            \n",
    "    def animate(arg, ax, kernel_plots, total_density_plot):\n",
    "        step, focus_weight, kernels, total_density = arg\n",
    "        ax.set_title('Fraction weight ' + str(focus_weight))\n",
    "        for kernel_plot, kernel in zip(kernel_plots, kernels):\n",
    "            kernel_plot[0].set_ydata(kernel)\n",
    "        total_density_plot[0].set_ydata(total_density)\n",
    "\n",
    "    fig, ax = plt.subplots()\n",
    "    fig.set_tight_layout(True)\n",
    "    \n",
    "    ax.set_ylim([0., 1.0])\n",
    "\n",
    "    #sigmas = np.linspace(from_sigma, to_sigma, number_steps + 1)\n",
    "    relevant_x = np.linspace(-4, 4, resolution)\n",
    "    kernels = [plot_normal(x_i, sigma, relevant_x) / len(x) for x_i in x]\n",
    "    kernel_plots = []\n",
    "    for kernel in kernels:\n",
    "        kernel_plots.append(ax.plot(relevant_x, kernel, 'b'))\n",
    "    #print(kernel_plots)\n",
    "    total_density = np.sum(np.array(kernels), axis=0)\n",
    "    total_density_plot = ax.plot(relevant_x, total_density, 'r')\n",
    "    \n",
    "    return FuncAnimation(fig, animate, step, interval=update_frequency, repeat=False, blit=False, fargs=(ax, kernel_plots, total_density_plot))\n",
    "    \n",
    "    #print(total_density.shape)\n",
    "    \n",
    "    #plt.show()\n",
    "    \n",
    "ani = shift_weight_kernel(x[:25], 2, 0.5, number_steps=75, update_frequency=100)"
   ]
  },
  {
   "cell_type": "code",
   "execution_count": null,
   "metadata": {
    "collapsed": true
   },
   "outputs": [],
   "source": [
    "def shift_weights_widths(x, sigmas, number_steps=10, update_frequency=200, resolution=1000):\n",
    "    \n",
    "    def plot_normal(mean, sigma, relevant_x):\n",
    "        return norm.pdf(relevant_x, loc=mean, scale=sigma)\n",
    "        #return x_pdf\n",
    "    \n",
    "    def step():\n",
    "        for step in range(1, number_steps + 1):\n",
    "            focus_weight = 1/len(x) + (len(x) - 1) / (len(x)) * (step / (number_steps + 1))\n",
    "            print(focus_weight)\n",
    "            non_focus_weight = (1 - focus_weight) / (len(x) - 1)\n",
    "            kernels = [plot_normal(x_i, sigma, relevant_x) * non_focus_weight for x_i in x]\n",
    "            kernels[focus_index] = kernels[focus_index] / non_focus_weight * focus_weight\n",
    "            total_density = np.sum(np.array(kernels), axis=0)\n",
    "            yield step, focus_weight, kernels, total_density\n",
    "            \n",
    "    def animate(arg, ax, kernel_plots, total_density_plot):\n",
    "        step, focus_weight, kernels, total_density = arg\n",
    "        ax.set_title('Fraction weight ' + str(focus_weight))\n",
    "        for kernel_plot, kernel in zip(kernel_plots, kernels):\n",
    "            kernel_plot[0].set_ydata(kernel)\n",
    "        total_density_plot[0].set_ydata(total_density)\n",
    "\n",
    "    fig, ax = plt.subplots()\n",
    "    fig.set_tight_layout(True)\n",
    "    \n",
    "    ax.set_ylim([0., 1.0])\n",
    "\n",
    "    #sigmas = np.linspace(from_sigma, to_sigma, number_steps + 1)\n",
    "    relevant_x = np.linspace(-4, 4, resolution)\n",
    "    kernels = [plot_normal(x_i, s, relevant_x) / len(sigmas) for s in sigmas]\n",
    "    kernel_plots = []\n",
    "    for kernel in kernels:\n",
    "        kernel_plots.append(ax.plot(relevant_x, kernel, 'b'))\n",
    "    #print(kernel_plots)\n",
    "    total_density = np.sum(np.array(kernels), axis=0)\n",
    "    total_density_plot = ax.plot(relevant_x, total_density, 'r')\n",
    "    \n",
    "    return FuncAnimation(fig, animate, step, interval=update_frequency, repeat=False, blit=False, fargs=(ax, kernel_plots, total_density_plot))\n",
    "    \n",
    "    #print(total_density.shape)\n",
    "    \n",
    "    #plt.show()\n",
    "    \n",
    "ani = shift_weight_kernel(x[:25], 2, 0.5, number_steps=75, update_frequency=100)"
   ]
  },
  {
   "cell_type": "code",
   "execution_count": 68,
   "metadata": {
    "collapsed": false
   },
   "outputs": [
    {
     "name": "stderr",
     "output_type": "stream",
     "text": [
      "C:\\Users\\Jan\\Anaconda3\\lib\\site-packages\\matplotlib\\pyplot.py:524: RuntimeWarning: More than 20 figures have been opened. Figures created through the pyplot interface (`matplotlib.pyplot.figure`) are retained until explicitly closed and may consume too much memory. (To control this warning, see the rcParam `figure.max_open_warning`).\n",
      "  max_open_warning, RuntimeWarning)\n"
     ]
    }
   ],
   "source": [
    "def shift_weights_widths_one_center(x, sigmas, number_steps=10, update_frequency=200, resolution=1000):\n",
    "    \n",
    "    def plot_normal(mean, sigma, relevant_x):\n",
    "        return norm.pdf(relevant_x, loc=mean, scale=sigma)\n",
    "        #return x_pdf\n",
    "    \n",
    "    def step():\n",
    "        for step in range(1, number_steps + 1):\n",
    "            a = step / (number_steps + 1) * -2 + 1.6\n",
    "            #weights = np.exp(arange(len(sigmas)) * a + 1)\n",
    "            weights = np.exp(np.arange(len(sigmas)) * a) / np.sum(np.exp(np.arange(len(sigmas)) * a))\n",
    "            #focus_weight = 1/len(sigmas) + (len(sigmas) - 1) / (len(sigmas)) * (step / (number_steps * 2 + 1))\n",
    "            #non_focus_weight = (1 - focus_weight) / (len(sigmas) - 1)\n",
    "            #print(focus_weight, non_focus_weight * 4)\n",
    "            kernels = [plot_normal(0., sigma, relevant_x) * weight for sigma, weight in zip(sigmas, weights)]\n",
    "            #kernels[focus_index] = kernels[focus_index] / non_focus_weight * focus_weight\n",
    "            total_density = np.sum(np.array(kernels), axis=0)\n",
    "            #print(sum(total_density))\n",
    "            yield step, weights, kernels, total_density\n",
    "            \n",
    "    def animate(arg, ax, kernel_plots, total_density_plot):\n",
    "        step, focus_weight, kernels, total_density = arg\n",
    "        ax.set_title('Weights ' + str(focus_weight))\n",
    "        for kernel_plot, kernel in zip(kernel_plots, kernels):\n",
    "            kernel_plot[0].set_ydata(kernel)\n",
    "        total_density_plot[0].set_ydata(total_density)\n",
    "\n",
    "    fig, ax = plt.subplots()\n",
    "    fig.set_tight_layout(True)\n",
    "    \n",
    "    ax.set_ylim([0., 2.0])\n",
    "    \n",
    "    focus_index = 0\n",
    "\n",
    "    #sigmas = np.linspace(from_sigma, to_sigma, number_steps + 1)\n",
    "    relevant_x = np.linspace(-4, 4, resolution)\n",
    "    kernels = [plot_normal(0., s, relevant_x) / len(sigmas) for s in sigmas]\n",
    "    kernel_plots = []\n",
    "    for kernel in kernels:\n",
    "        kernel_plots.append(ax.plot(relevant_x, kernel, 'b'))\n",
    "    #print(kernel_plots)\n",
    "    total_density = np.sum(np.array(kernels), axis=0)\n",
    "    total_density_plot = ax.plot(relevant_x, total_density, 'r')\n",
    "    \n",
    "    return FuncAnimation(fig, animate, step, interval=update_frequency, repeat=False, blit=False, fargs=(ax, kernel_plots, total_density_plot))\n",
    "    \n",
    "    #print(total_density.shape)\n",
    "    \n",
    "    #plt.show()\n",
    "    \n",
    "ani = shift_weights_widths_one_center(np.array([0.]), [0.1, 0.3, 0.7, 1.3, 2.0], number_steps=75, update_frequency=100)"
   ]
  },
  {
   "cell_type": "code",
   "execution_count": 69,
   "metadata": {
    "collapsed": false,
    "scrolled": true
   },
   "outputs": [],
   "source": [
    "ani.save('kernels_shift_one_center.mp4')"
   ]
  },
  {
   "cell_type": "code",
   "execution_count": 36,
   "metadata": {
    "collapsed": false
   },
   "outputs": [],
   "source": [
    "def shift_weight_kernel(x, focus_index_1, focus_index_2, sigma, number_steps=10, update_frequency=200, resolution=1000):\n",
    "    \n",
    "    def plot_normal(mean, sigma, relevant_x):\n",
    "        return norm.pdf(relevant_x, loc=mean, scale=sigma)\n",
    "        #return x_pdf\n",
    "    \n",
    "    def step():\n",
    "        for step in range(1, number_steps + 1):\n",
    "            focus_weight = 1/len(x) + (len(x) - 2) / (len(x)) * (step / (number_steps + 1)) / 2\n",
    "            print(focus_weight)\n",
    "            non_focus_weight = (1 - 2 * focus_weight) / (len(x) - 2)\n",
    "            kernels = [plot_normal(x_i, sigma, relevant_x) * non_focus_weight for x_i in x]\n",
    "            kernels[focus_index_1] = kernels[focus_index_1] / non_focus_weight * focus_weight\n",
    "            kernels[focus_index_2] = kernels[focus_index_2] / non_focus_weight * focus_weight\n",
    "            total_density = np.sum(np.array(kernels), axis=0)\n",
    "            yield step, focus_weight, kernels, total_density\n",
    "            \n",
    "    def animate(arg, ax, kernel_plots, total_density_plot):\n",
    "        step, focus_weight, kernels, total_density = arg\n",
    "        ax.set_title('Fraction weight ' + str(focus_weight * 2))\n",
    "        for kernel_plot, kernel in zip(kernel_plots, kernels):\n",
    "            kernel_plot[0].set_ydata(kernel)\n",
    "        total_density_plot[0].set_ydata(total_density)\n",
    "\n",
    "    fig, ax = plt.subplots()\n",
    "    fig.set_tight_layout(True)\n",
    "    \n",
    "    ax.set_ylim([0., 1.0])\n",
    "\n",
    "    #sigmas = np.linspace(from_sigma, to_sigma, number_steps + 1)\n",
    "    relevant_x = np.linspace(-4, 4, resolution)\n",
    "    kernels = [plot_normal(x_i, sigma, relevant_x) / len(x) for x_i in x]\n",
    "    kernel_plots = []\n",
    "    for kernel in kernels:\n",
    "        kernel_plots.append(ax.plot(relevant_x, kernel, 'b'))\n",
    "    #print(kernel_plots)\n",
    "    total_density = np.sum(np.array(kernels), axis=0)\n",
    "    total_density_plot = ax.plot(relevant_x, total_density, 'r')\n",
    "    \n",
    "    return FuncAnimation(fig, animate, step, interval=update_frequency, repeat=False, blit=False, fargs=(ax, kernel_plots, total_density_plot))\n",
    "    \n",
    "    #print(total_density.shape)\n",
    "    \n",
    "    #plt.show()\n",
    "    \n",
    "ani = shift_weight_kernel(x[:25], 1, 3, 0.5, number_steps=75, update_frequency=100)"
   ]
  },
  {
   "cell_type": "code",
   "execution_count": 4,
   "metadata": {
    "collapsed": false
   },
   "outputs": [
    {
     "data": {
      "text/plain": [
       "array([ 0.49671415, -0.1382643 ,  0.64768854,  1.52302986, -0.23415337,\n",
       "       -0.23413696,  1.57921282,  0.76743473, -0.46947439,  0.54256004,\n",
       "       -0.46341769, -0.46572975,  0.24196227, -1.91328024, -1.72491783,\n",
       "       -0.56228753, -1.01283112,  0.31424733, -0.90802408, -1.4123037 ,\n",
       "        1.46564877, -0.2257763 ,  0.0675282 , -1.42474819, -0.54438272])"
      ]
     },
     "execution_count": 4,
     "metadata": {},
     "output_type": "execute_result"
    }
   ],
   "source": [
    "x[:25]"
   ]
  },
  {
   "cell_type": "code",
   "execution_count": 37,
   "metadata": {
    "collapsed": false,
    "scrolled": true
   },
   "outputs": [
    {
     "name": "stdout",
     "output_type": "stream",
     "text": [
      "0.04605263157894737\n",
      "0.04605263157894737\n",
      "0.05210526315789474\n",
      "0.0581578947368421\n",
      "0.06421052631578947\n",
      "0.07026315789473685\n",
      "0.07631578947368421\n",
      "0.08236842105263158\n",
      "0.08842105263157896\n",
      "0.09447368421052632\n",
      "0.10052631578947369\n",
      "0.10657894736842105\n",
      "0.11263157894736842\n",
      "0.11868421052631581\n",
      "0.12473684210526315\n",
      "0.13078947368421054\n",
      "0.1368421052631579\n",
      "0.14289473684210527\n",
      "0.14894736842105263\n",
      "0.155\n",
      "0.16105263157894736\n",
      "0.16710526315789476\n",
      "0.17315789473684212\n",
      "0.1792105263157895\n",
      "0.18526315789473685\n",
      "0.19131578947368424\n",
      "0.1973684210526316\n",
      "0.20342105263157895\n",
      "0.2094736842105263\n",
      "0.2155263157894737\n",
      "0.22157894736842107\n",
      "0.22763157894736843\n",
      "0.2336842105263158\n",
      "0.2397368421052632\n",
      "0.24578947368421056\n",
      "0.25184210526315787\n",
      "0.25789473684210523\n",
      "0.26394736842105265\n",
      "0.27\n",
      "0.2760526315789474\n",
      "0.28210526315789475\n",
      "0.2881578947368421\n",
      "0.2942105263157895\n",
      "0.30026315789473684\n",
      "0.3063157894736842\n",
      "0.3123684210526316\n",
      "0.31842105263157894\n",
      "0.3244736842105263\n",
      "0.33052631578947367\n",
      "0.33657894736842103\n",
      "0.34263157894736845\n",
      "0.34868421052631576\n",
      "0.3547368421052632\n",
      "0.3607894736842105\n",
      "0.36684210526315786\n",
      "0.3728947368421053\n",
      "0.3789473684210526\n",
      "0.385\n",
      "0.3910526315789474\n",
      "0.39710526315789474\n",
      "0.4031578947368421\n",
      "0.40921052631578947\n",
      "0.41526315789473683\n",
      "0.4213157894736842\n",
      "0.42736842105263156\n",
      "0.43342105263157893\n",
      "0.43947368421052635\n",
      "0.44552631578947366\n",
      "0.4515789473684211\n",
      "0.45763157894736844\n",
      "0.46368421052631575\n",
      "0.4697368421052632\n",
      "0.4757894736842105\n",
      "0.4818421052631579\n",
      "0.48789473684210527\n",
      "0.49394736842105263\n"
     ]
    }
   ],
   "source": [
    "ani.save('kernels_shift_bimodal.mp4')"
   ]
  },
  {
   "cell_type": "code",
   "execution_count": 33,
   "metadata": {
    "collapsed": false
   },
   "outputs": [
    {
     "data": {
      "text/plain": [
       "<matplotlib.collections.PathCollection at 0x591e493a90>"
      ]
     },
     "execution_count": 33,
     "metadata": {},
     "output_type": "execute_result"
    },
    {
     "data": {
      "image/png": "[encoded data removed]",
      "text/plain": [
       "<matplotlib.figure.Figure at 0x591e623b38>"
      ]
     },
     "metadata": {},
     "output_type": "display_data"
    }
   ],
   "source": [
    "plt.scatter(x, [0 for _ in range(50)])"
   ]
  },
  {
   "cell_type": "code",
   "execution_count": 15,
   "metadata": {
    "collapsed": false
   },
   "outputs": [
    {
     "data": {
      "text/plain": [
       "[-4, 4, 0.0, 0.2]"
      ]
     },
     "execution_count": 15,
     "metadata": {},
     "output_type": "execute_result"
    }
   ],
   "source": [
    "weights = np.ones_like(x)/float(len(x))\n",
    "bins = np.arange(-4, 4, 0.4)\n",
    "n, bins, patches = plt.hist(x, bins=bins, normed=0, weights=weights)\n",
    "plt.axis([-4, 4, 0., 0.2])"
   ]
  },
  {
   "cell_type": "code",
   "execution_count": 12,
   "metadata": {
    "collapsed": false
   },
   "outputs": [
    {
     "name": "stdout",
     "output_type": "stream",
     "text": [
      "FPS: 1.55\n"
     ]
    },
    {
     "data": {
      "image/png": "[encoded data removed]",
      "text/plain": [
       "<matplotlib.figure.Figure at 0x905c25780>"
      ]
     },
     "metadata": {},
     "output_type": "display_data"
    }
   ],
   "source": [
    "import numpy as np\n",
    "import matplotlib.pyplot as plt\n",
    "import matplotlib.animation as animation\n",
    "import timeit\n",
    "\n",
    "clock = timeit.default_timer\n",
    "\n",
    "fig, ax = plt.subplots()\n",
    "\n",
    "alphab = ['A', 'B', 'C', 'D', 'E', 'F']\n",
    "frequencies = [1, 44, 12, 11, 2, 10]\n",
    "\n",
    "pos = np.arange(len(alphab))\n",
    "width = 1.0     # gives histogram aspect to the bar diagram\n",
    "ax.set_xticks(pos + (width / 2))\n",
    "ax.set_xticklabels(alphab)\n",
    "\n",
    "rects = plt.bar(pos, frequencies, width, color='r')\n",
    "start = clock()\n",
    "\n",
    "def animate(arg, rects):\n",
    "    frameno, frequencies = arg\n",
    "    for rect, f in zip(rects, frequencies):\n",
    "        rect.set_height(f)\n",
    "    print(\"FPS: {:.2f}\".format(frameno / (clock() - start))) \n",
    "\n",
    "def step():\n",
    "    for frame, bin_idx in enumerate(np.linspace(0,1000000,100000000), 1):\n",
    "        #Here we just change the first bin, so it increases through the animation.\n",
    "        frequencies[0] = bin_idx\n",
    "        yield frame, frequencies\n",
    "\n",
    "\n",
    "ani = animation.FuncAnimation(fig, animate, step, interval=10,\n",
    "                              repeat=False, blit=False, fargs=(rects,))\n",
    "plt.show()\n"
   ]
  },
  {
   "cell_type": "code",
   "execution_count": 25,
   "metadata": {
    "collapsed": false
   },
   "outputs": [],
   "source": [
    "ani.save('test_ani_4.mp4')"
   ]
  },
  {
   "cell_type": "code",
   "execution_count": null,
   "metadata": {
    "collapsed": true
   },
   "outputs": [],
   "source": [
    "import ffmpeg"
   ]
  }
 ],
 "metadata": {
  "anaconda-cloud": {},
  "kernelspec": {
   "display_name": "Python [default]",
   "language": "python",
   "name": "python3"
  },
  "language_info": {
   "codemirror_mode": {
    "name": "ipython",
    "version": 3
   },
   "file_extension": ".py",
   "mimetype": "text/x-python",
   "name": "python",
   "nbconvert_exporter": "python",
   "pygments_lexer": "ipython3",
   "version": "3.5.2"
  }
 },
 "nbformat": 4,
 "nbformat_minor": 1
}
